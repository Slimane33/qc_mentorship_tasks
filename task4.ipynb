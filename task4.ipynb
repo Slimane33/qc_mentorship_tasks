{
 "cells": [
  {
   "cell_type": "markdown",
   "metadata": {},
   "source": [
    "# Task 4"
   ]
  },
  {
   "cell_type": "markdown",
   "metadata": {},
   "source": [
    "The objective of this task is to find the lowest eigenvalue of the matrix: \n",
    "$$H = \\begin{bmatrix}\n",
    "0 & 0 & 0 & 0 \\\\ \n",
    "0 & -1 & 1 & 0 \\\\\n",
    "0 & 1 & -1 & 0 \\\\\n",
    "0 & 0 & 0 & 0 \\\\\n",
    "\\end{bmatrix}$$\n",
    "This will be done by considering it as a Hamiltonian and using Variational Quantum Eigensolver."
   ]
  },
  {
   "cell_type": "code",
   "execution_count": 1,
   "metadata": {},
   "outputs": [],
   "source": [
    "import numpy as np\n",
    "from qiskit import *\n",
    "from qiskit.tools.jupyter import *\n",
    "import matplotlib.pyplot as plt\n",
    "backend = BasicAer.get_backend('qasm_simulator')"
   ]
  },
  {
   "cell_type": "markdown",
   "metadata": {},
   "source": [
    "## First classical check"
   ]
  },
  {
   "cell_type": "markdown",
   "metadata": {},
   "source": [
    "We compute classically the eigenvalues and eigenvectors to check future results."
   ]
  },
  {
   "cell_type": "code",
   "execution_count": 2,
   "metadata": {},
   "outputs": [
    {
     "name": "stdout",
     "output_type": "stream",
     "text": [
      "(array([ 0., -2.,  0.,  0.]), array([[ 0.        ,  0.        ,  1.        ,  0.        ],\n",
      "       [ 0.70710678,  0.70710678,  0.        ,  0.        ],\n",
      "       [ 0.70710678, -0.70710678,  0.        ,  0.        ],\n",
      "       [ 0.        ,  0.        ,  0.        ,  1.        ]]))\n"
     ]
    }
   ],
   "source": [
    "H = np.array([[0,0,0,0],\n",
    "            [0,-1,1,0],\n",
    "            [0,1,-1,0],\n",
    "            [0,0,0,0]])\n",
    "print(np.linalg.eig(H))"
   ]
  },
  {
   "cell_type": "markdown",
   "metadata": {},
   "source": [
    "We expect to find at the end -2, and the associated state is $\\frac{|01\\rangle - |10\\rangle}{\\sqrt{2}}$"
   ]
  },
  {
   "cell_type": "markdown",
   "metadata": {},
   "source": [
    "## Decomposition of our hamiltonian"
   ]
  },
  {
   "cell_type": "markdown",
   "metadata": {},
   "source": [
    "We decompose our hamiltonian as a sum of Pauli operators. For each operator, we will note $\\sigma_x^i$, $\\sigma_y^i$ and $\\sigma_z^i$ the operators $\\sigma_x$, $\\sigma_y$ and $\\sigma_z$ applied to the $i$ qubit. Here $i \\in \\{1,2\\}$.\n",
    "\n",
    "The code below shows that our operator can be decomposed as $$H = \\frac{1}{2} (\\sigma_z^1\\sigma_z^2 + \\sigma_y^1\\sigma_y^2 + \\sigma_x^1\\sigma_x^2 - Id)$$"
   ]
  },
  {
   "cell_type": "code",
   "execution_count": 3,
   "metadata": {},
   "outputs": [
    {
     "data": {
      "text/plain": [
       "array([[ 0.+0.j,  0.+0.j,  0.+0.j,  0.+0.j],\n",
       "       [ 0.+0.j, -1.+0.j,  1.+0.j,  0.+0.j],\n",
       "       [ 0.+0.j,  1.+0.j, -1.+0.j,  0.+0.j],\n",
       "       [ 0.+0.j,  0.+0.j,  0.+0.j,  0.+0.j]])"
      ]
     },
     "execution_count": 3,
     "metadata": {},
     "output_type": "execute_result"
    }
   ],
   "source": [
    "x1 = np.array([[0,0,1,0],\n",
    "                [0,0,0,1],\n",
    "                [1,0,0,0],\n",
    "                [0,1,0,0]])\n",
    "x2 = np.array([[0,1,0,0],\n",
    "                [1,0,0,0],\n",
    "                [0,0,0,1],\n",
    "                [0,0,1,0]])\n",
    "z1 = np.array([[1,0,0,0],\n",
    "                [0,1,0,0],\n",
    "                [0,0,-1,0],\n",
    "                [0,0,0,1]])\n",
    "z2 = np.array([[1,0,0,0],\n",
    "                [0,-1,0,0],\n",
    "                [0,0,1,0],\n",
    "                [0,0,0,1]])\n",
    "\n",
    "y1 = np.array([[0,0,-1j,0],\n",
    "                [0,0,0,-1j],\n",
    "                [1j,0,0,0],\n",
    "                [0,1j,0,0]])\n",
    "y2 = np.array([[0,-1j,0,0],\n",
    "                [1j,0,0,0],\n",
    "                [0,0,0,-1j],\n",
    "                [0,0,1j,0]])\n",
    "I = np.eye(4)\n",
    "x1x2 = np.dot(x1,x2)\n",
    "z1z2 = np.dot(z1,z2)\n",
    "y1y2 = np.dot(y1,y2)\n",
    "\n",
    "0.5 * (z1z2 + y1y2 + x1x2 -I)"
   ]
  },
  {
   "cell_type": "markdown",
   "metadata": {},
   "source": [
    "## Preparing the variational circuit"
   ]
  },
  {
   "cell_type": "markdown",
   "metadata": {},
   "source": [
    "The goal of the circuit is to compute $E(\\theta) = \\langle \\psi(\\theta)|H|\\psi(\\theta) \\rangle$ where $|\\psi(\\theta)\\rangle$ is a parametered ansatz. Afterwards, we will find the $\\theta$ that minimizes this quantity and it will be our upper bound for the lowest eigenvalue. For clarity of notation, we will omit the explicit dependency in $\\theta$.\n",
    "\n",
    "**How to do this ?**\n",
    "\n",
    "$E$ can be decomposed as a sum of terms by the decomposition of the Hamiltonian. \n",
    "$$E = \\frac{1}{2}(\\langle \\psi|\\sigma_z^1\\sigma_z^2|\\psi \\rangle + \\langle \\psi|\\sigma_x^1\\sigma_x^2|\\psi \\rangle + \\langle \\psi|\\sigma_y^1\\sigma_y^2|\\psi \\rangle - 1)$$\n",
    "\n",
    "We will show that each term can be estimated by a quantum circuit.\n",
    "\n",
    "Let us assume that $|\\psi\\rangle = a|00\\rangle + b|01\\rangle + c|10\\rangle + d|11\\rangle$. \n",
    "\n",
    "Then $\\langle \\psi|\\sigma_z^1\\sigma_z^2|\\psi \\rangle = (a^*\\langle 00| + b^*\\langle 01| + c^*\\langle 10| + d^*\\langle 11|)(a|00\\rangle - b|01\\rangle - c|10\\rangle + d|11\\rangle) = |a|^2 - |b|^2 - |c|^2 + |d|^2$ with $|a|^2, |b|^2, |c|^2, |d|^2$ that can be obtained by measurement in computational basis. Therefore, computing the first term only require to measure $|\\psi\\rangle$ in computational basis.\n",
    "\n",
    "For the other terms, the same formula is valid, except the measurement has to be done on $R_y(-\\pi/2)|\\psi\\rangle$ for $\\sigma_x^1\\sigma_x^2$ and on $R_y(\\pi/2)|\\psi\\rangle$ for $\\sigma_y^1\\sigma_y^2$. Let us prove this result.\n",
    "\n",
    "***Proof*** : If we consider one qubit, $R_y(\\pi/2)|0\\rangle = |+\\rangle$ and $R_y(\\pi/2)|0\\rangle = |-\\rangle$,  with $|+\\rangle = \\frac{|0\\rangle+|1\\rangle}{\\sqrt{2}}$ and  $|-\\rangle = \\frac{|0\\rangle-|1\\rangle}{\\sqrt{2}}$.\n",
    "Furthermore $\\sigma_x|+\\rangle = |-\\rangle$ and $\\sigma_x|+\\rangle = -|-\\rangle$. $\\sigma_x$ acts then like $\\sigma_z$ in the $|+\\rangle, |-\\rangle$ basis. So if we note $ |\\psi'\\rangle = R_y(\\pi/2)|\\psi\\rangle $, we have $\\langle\\psi'|\\sigma_x|\\psi'\\rangle = \\langle\\psi|\\sigma_z|\\psi\\rangle$. Therefore, by inverting the equation, if we note $|\\psi''\\rangle = R_y(-\\pi/2)|\\psi\\rangle$, we have $\\langle\\psi''|\\sigma_z|\\psi''\\rangle = \\langle\\psi|\\sigma_x|\\psi\\rangle$. The proof is the same for $\\sigma_y$."
   ]
  },
  {
   "cell_type": "markdown",
   "metadata": {},
   "source": [
    "### The ansatz circuit"
   ]
  },
  {
   "cell_type": "markdown",
   "metadata": {},
   "source": [
    "The parameter for the ansatz is the angle in the $R_z$ rotation."
   ]
  },
  {
   "cell_type": "code",
   "execution_count": 4,
   "metadata": {},
   "outputs": [
    {
     "data": {
      "image/png": "[encoded data removed]",
      "text/plain": [
       "<Figure size 408.156x204.68 with 1 Axes>"
      ]
     },
     "execution_count": 4,
     "metadata": {},
     "output_type": "execute_result"
    }
   ],
   "source": [
    "q       = QuantumRegister(2)\n",
    "c       = ClassicalRegister(2)\n",
    "circuit = QuantumCircuit(q,c)\n",
    "circuit.h(0)\n",
    "circuit.rz(np.pi/3,0)\n",
    "circuit.cx(0,1)\n",
    "circuit.x(1)\n",
    "circuit.draw(output='mpl')"
   ]
  },
  {
   "cell_type": "markdown",
   "metadata": {},
   "source": [
    "The following function apply the ansatz with parameter $\\theta$ to a circuit passed in arguments."
   ]
  },
  {
   "cell_type": "code",
   "execution_count": 5,
   "metadata": {},
   "outputs": [],
   "source": [
    "def ansatz(theta, circuit):\n",
    "    circuit.h(0)\n",
    "    circuit.rz(theta,0)\n",
    "    circuit.cx(0,1)\n",
    "    circuit.x(1)\n",
    "    return circuit"
   ]
  },
  {
   "cell_type": "markdown",
   "metadata": {},
   "source": [
    "These functions compute each term of our energy."
   ]
  },
  {
   "cell_type": "code",
   "execution_count": 6,
   "metadata": {},
   "outputs": [],
   "source": [
    "def expz1z2(theta, shots=1000):\n",
    "    '''Returns <ansatz(theta)|sigma_z|ansatz(theta)>'''\n",
    "    q       = QuantumRegister(2)\n",
    "    c       = ClassicalRegister(2)\n",
    "    circuit = QuantumCircuit(q,c)\n",
    "    circuit = ansatz(theta, circuit)\n",
    "    circuit.measure(0,c[0])\n",
    "    circuit.measure(1,c[1])\n",
    "    result = execute(circuit,backend,shots=shots).result()\n",
    "    counts = result.get_counts(circuit)\n",
    "    result=np.zeros(4)\n",
    "    for key in counts:\n",
    "        result[int(key,2)]=counts[key]\n",
    "    result/=shots\n",
    "    return result[0] - result[1] - result[2] + result[3]\n",
    "\n",
    "def expx1x2(theta, shots=1000):\n",
    "    '''Returns <ansatz(theta)|sigma_x|ansatz(theta)>'''\n",
    "    q       = QuantumRegister(2)\n",
    "    c       = ClassicalRegister(2)\n",
    "    circuit = QuantumCircuit(q,c)\n",
    "    circuit = ansatz(theta, circuit)\n",
    "    circuit.ry(-np.pi/2, 0)\n",
    "    circuit.ry(-np.pi/2, 1)\n",
    "    circuit.measure(0,c[0])\n",
    "    circuit.measure(1,c[1])\n",
    "    result = execute(circuit,backend,shots=shots).result()\n",
    "    counts = result.get_counts(circuit)\n",
    "    result=np.zeros(4)\n",
    "    for key in counts:\n",
    "        result[int(key,2)]=counts[key]\n",
    "    result/=shots\n",
    "    return result[0] - result[1] - result[2] + result[3]\n",
    "\n",
    "def expy1y2(theta, shots=1000):\n",
    "    '''Returns <ansatz(theta)|sigma_y|ansatz(theta)>'''\n",
    "    q       = QuantumRegister(2)\n",
    "    c       = ClassicalRegister(2)\n",
    "    circuit = QuantumCircuit(q,c)\n",
    "    circuit = ansatz(theta, circuit)\n",
    "    circuit.ry(np.pi/2, 0)\n",
    "    circuit.ry(np.pi/2, 1)\n",
    "    circuit.measure(0,c[0])\n",
    "    circuit.measure(1,c[1])\n",
    "    result = execute(circuit,backend,shots=shots).result()\n",
    "    counts = result.get_counts(circuit)\n",
    "    result=np.zeros(4)\n",
    "    for key in counts:\n",
    "        result[int(key,2)]=counts[key]\n",
    "    result/=shots\n",
    "    return result[0] - result[1] - result[2] + result[3]\n"
   ]
  },
  {
   "cell_type": "markdown",
   "metadata": {},
   "source": [
    "Our final energy."
   ]
  },
  {
   "cell_type": "code",
   "execution_count": 7,
   "metadata": {},
   "outputs": [],
   "source": [
    "def energy(theta):\n",
    "    return (expy1y2(theta, shots=10000) + expx1x2(theta, shots=10000) + expz1z2(theta, shots=10000) - 1) * 0.5\n"
   ]
  },
  {
   "cell_type": "markdown",
   "metadata": {},
   "source": [
    "We will now compute the energy for different values of $\\theta$ and look empirically at the minimum."
   ]
  },
  {
   "cell_type": "code",
   "execution_count": 8,
   "metadata": {},
   "outputs": [],
   "source": [
    "X = np.linspace(-2*np.pi, 2*np.pi, 100)\n",
    "Y = np.zeros_like(X)\n",
    "\n",
    "for i in range(len(X)):\n",
    "    Y[i] = energy(X[i])"
   ]
  },
  {
   "cell_type": "code",
   "execution_count": 9,
   "metadata": {},
   "outputs": [
    {
     "data": {
      "image/png": "[encoded data removed]",
      "text/plain": [
       "<Figure size 432x288 with 1 Axes>"
      ]
     },
     "metadata": {
      "needs_background": "light"
     },
     "output_type": "display_data"
    }
   ],
   "source": [
    "plt.plot(X,Y)\n",
    "plt.xlabel(\"Theta\", fontsize='x-large')\n",
    "plt.ylabel(\"Energy\", fontsize='x-large')\n",
    "plt.show()"
   ]
  },
  {
   "cell_type": "markdown",
   "metadata": {},
   "source": [
    "The minimum value of this function is -2, and is reached for $\\theta = \\pi$. It can be shown that putting $\\theta = \\pi$ in the ansatz formula leads to the state $\\frac{|01\\rangle - |10\\rangle}{\\sqrt{2}}$. Everything is coherent with the results of the very beginning. \n",
    "\n",
    "**We are lucky in this case because the state of lowest energy is attained. Had not it be the case, we only proved that the lowest eigenvalue is smaller than -2.**"
   ]
  },
  {
   "cell_type": "markdown",
   "metadata": {},
   "source": [
    "### Final result : -2"
   ]
  }
 ],
 "metadata": {
  "kernelspec": {
   "display_name": "Python 3",
   "language": "python",
   "name": "python3"
  },
  "language_info": {
   "codemirror_mode": {
    "name": "ipython",
    "version": 3
   },
   "file_extension": ".py",
   "mimetype": "text/x-python",
   "name": "python",
   "nbconvert_exporter": "python",
   "pygments_lexer": "ipython3",
   "version": "3.7.3"
  }
 },
 "nbformat": 4,
 "nbformat_minor": 2
}
